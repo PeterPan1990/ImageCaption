{
 "cells": [
  {
   "cell_type": "code",
   "execution_count": 1,
   "metadata": {
    "collapsed": false
   },
   "outputs": [
    {
     "name": "stdout",
     "output_type": "stream",
     "text": [
      "/media/young/225AD7985AD766D7/json/neuraltalk-master/\n",
      "Done\n"
     ]
    }
   ],
   "source": [
    "# import needed module for neural talk and some path setting work\n",
    "\n",
    "import numpy as np\n",
    "import matplotlib.pyplot as plt\n",
    "%matplotlib inline\n",
    "\n",
    "# Make sure that caffe is on the python path:\n",
    "#caffe_root = '../'  # this file is expected to be in {caffe_root}/examples\n",
    "import sys\n",
    "import os\n",
    "sys.path.append('/home/young/caffe-master/python/') # add caffe path\n",
    "sys.path.append('/usr/lib/python2.7/dist-packages/')\n",
    "sys.path.append('/media/young/225AD7985AD766D7/json/neuraltalk-master') # add neuraltalk root path\n",
    "import caffe\n",
    "\n",
    "\n",
    "rootdir = '/media/young/225AD7985AD766D7/json/neuraltalk-master/'\n",
    "print rootdir\n",
    "\n",
    "\n",
    "print 'Done'"
   ]
  },
  {
   "cell_type": "code",
   "execution_count": 2,
   "metadata": {
    "collapsed": false
   },
   "outputs": [
    {
     "name": "stdout",
     "output_type": "stream",
     "text": [
      "Done 10/16 files\n",
      "Done 16/16 files\n"
     ]
    }
   ],
   "source": [
    "# extract the image feature of example image use VGG-16 network with caffe\n",
    "from scipy.misc import imread, imresize\n",
    "import scipy.io\n",
    "\n",
    "def predict(in_data, net):\n",
    "    \"\"\"\n",
    "    Get the features for a batch of data using network\n",
    "\n",
    "    Inputs:\n",
    "    in_data: data batch\n",
    "    \"\"\"\n",
    "\n",
    "    out = net.forward(**{net.inputs[0]: in_data})\n",
    "    features = out[net.outputs[0]].squeeze(axis=(2,3))\n",
    "    return features\n",
    "\n",
    "def batch_predict(filenames, net):\n",
    "    \"\"\"\n",
    "    Get the features for all images from filenames using a network\n",
    "\n",
    "    Inputs:\n",
    "    filenames: a list of names of image files\n",
    "\n",
    "    Returns:\n",
    "    an array of feature vectors for the images in that file\n",
    "    \"\"\"\n",
    "\n",
    "    N, C, H, W = net.blobs[net.inputs[0]].data.shape\n",
    "    F = net.blobs[net.outputs[0]].data.shape[1]\n",
    "    Nf = len(filenames)\n",
    "    Hi, Wi, _ = imread(filenames[0]).shape\n",
    "    allftrs = np.zeros((Nf, F))\n",
    "    for i in range(0, Nf, N):\n",
    "        in_data = np.zeros((N, C, H, W), dtype=np.float32)\n",
    "\n",
    "        batch_range = range(i, min(i+N, Nf))\n",
    "        batch_filenames = [filenames[j] for j in batch_range]\n",
    "        Nb = len(batch_range)\n",
    "\n",
    "        batch_images = np.zeros((Nb, 3, H, W))\n",
    "        for j,fname in enumerate(batch_filenames):\n",
    "            im = imread(fname)\n",
    "            if len(im.shape) == 2:\n",
    "                im = np.tile(im[:,:,np.newaxis], (1,1,3))\n",
    "            # RGB -> BGR\n",
    "            im = im[:,:,(2,1,0)]\n",
    "            # mean subtraction\n",
    "            im = im - np.array([103.939, 116.779, 123.68])\n",
    "            # resize\n",
    "            im = imresize(im, (H, W))\n",
    "            # get channel in correct dimension\n",
    "            im = np.transpose(im, (2, 0, 1))\n",
    "            batch_images[j,:,:,:] = im\n",
    "\n",
    "        # insert into correct place\n",
    "        in_data[0:len(batch_range), :, :, :] = batch_images\n",
    "\n",
    "        # predict features\n",
    "        ftrs = predict(in_data, net)\n",
    "\n",
    "        for j in range(len(batch_range)):\n",
    "            allftrs[i+j,:] = ftrs[j,:]\n",
    "\n",
    "        print 'Done %d/%d files' % (i+len(batch_range), len(filenames))\n",
    "\n",
    "    return allftrs\n",
    "\n",
    "# initiate the caffe model\n",
    "rootmodel = rootdir + 'python_features/'\n",
    "net = caffe.Net(rootmodel + 'deploy_features.prototxt', \\\n",
    "                rootmodel + 'VGG_ILSVRC_16_layers.caffemodel')\n",
    "\n",
    "# prepare the test image\n",
    "filenames = []\n",
    "test_file = rootdir + 'example_images/tasks.txt' # list of image name\n",
    "with open(test_file) as fp:\n",
    "    for line in fp:\n",
    "        filename = line.strip().split()[0]\n",
    "        filenames.append(rootdir + 'example_images/' + filename)\n",
    "\n",
    "allfeatures = batch_predict(filenames, net)\n",
    "allfeatures = allfeatures.transpose()\n"
   ]
  },
  {
   "cell_type": "code",
   "execution_count": 6,
   "metadata": {
    "collapsed": false
   },
   "outputs": [
    {
     "name": "stdout",
     "output_type": "stream",
     "text": [
      "1\n"
     ]
    }
   ],
   "source": [
    "# do the R-CNN test do detect the main object in the test images\n",
    "# to do .........\n",
    "print str(1)"
   ]
  },
  {
   "cell_type": "code",
   "execution_count": 7,
   "metadata": {
    "collapsed": false
   },
   "outputs": [
    {
     "name": "stdout",
     "output_type": "stream",
     "text": [
      "loading checkpoint /media/young/225AD7985AD766D7/json/neuraltalk-master/merge_cv/model_checkpoint_coco_Caicai-PC_baseline_16.41.p\n",
      "image 1/16:\n",
      "PRED: (-8.801691) a black dog is jumping over a log\n",
      "loading checkpoint /media/young/225AD7985AD766D7/json/neuraltalk-master/merge_cv/model_checkpoint_coco_Caicai-PC_baseline_17.15.p\n",
      "image 1/16:\n",
      "PRED: (-8.281611) a black dog is running through the grass\n",
      "loading checkpoint /media/young/225AD7985AD766D7/json/neuraltalk-master/merge_cv/model_checkpoint_coco_Caicai-PC_baseline_18.00.p\n",
      "image 1/16:\n",
      "PRED: (-8.096084) a black dog is running through the grass\n",
      "loading checkpoint /media/young/225AD7985AD766D7/json/neuraltalk-master/merge_cv/model_checkpoint_coco_Caicai-PC_baseline_21.37.p\n",
      "image 1/16:\n",
      "PRED: (-8.495445) a brown dog is running through the grass\n",
      "loading checkpoint /media/young/225AD7985AD766D7/json/neuraltalk-master/merge_cv/model_checkpoint_coco_Caicai-PC_baseline_24.64.p\n",
      "image 1/16:\n",
      "PRED: (-7.773769) a brown dog is running through the grass\n"
     ]
    }
   ],
   "source": [
    "# generate the image caption top 5 case\n",
    "\n",
    "import code\n",
    "import math\n",
    "import json\n",
    "#import argparse\n",
    "import cPickle as pickle\n",
    "from imagernn.solver import Solver\n",
    "from imagernn.imagernn_utils import decodeGenerator, eval_split\n",
    "\n",
    "\n",
    "features = allfeatures\n",
    "D, N = features.shape\n",
    "\n",
    "# iterate over all images and predict sentence\n",
    "# load the checkpoint\n",
    "\n",
    "checkpoint_path_top5 = [rootdir + 'merge_cv/' + 'model_checkpoint_coco_Caicai-PC_baseline_16.41.p', \\\n",
    "                        rootdir + 'merge_cv/' + 'model_checkpoint_coco_Caicai-PC_baseline_17.15.p', \\\n",
    "                        rootdir + 'merge_cv/' + 'model_checkpoint_coco_Caicai-PC_baseline_18.00.p', \\\n",
    "                        rootdir + 'merge_cv/' + 'model_checkpoint_coco_Caicai-PC_baseline_21.37.p', \\\n",
    "                        rootdir + 'merge_cv/' + 'model_checkpoint_coco_Caicai-PC_baseline_24.64.p']\n",
    "\n",
    "blob_top5 = {}\n",
    "\n",
    "for i in range(5):\n",
    "\n",
    "    checkpoint_path = checkpoint_path_top5[i]\n",
    "    #print 'loading checkpoint %s' % (checkpoint_path, )\n",
    "    checkpoint = pickle.load(open(checkpoint_path, 'rb'))\n",
    "    #print checkpoint.keys()\n",
    "    checkpoint_params = checkpoint['params']\n",
    "    dataset = checkpoint_params['dataset']\n",
    "    model = checkpoint['model']\n",
    "    misc = {}\n",
    "    misc['wordtoix'] = checkpoint['wordtoix']\n",
    "    ixtoword = checkpoint['ixtoword']\n",
    "\n",
    "    # output blob which we will dump to JSON for visualizing the results\n",
    "    blob = {} \n",
    "    blob['params'] = {}\n",
    "    blob['checkpoint_params'] = checkpoint_params\n",
    "    blob['imgblobs'] = []\n",
    "\n",
    "    BatchGenerator = decodeGenerator(checkpoint_params)\n",
    "    for n in xrange(1):\n",
    "        print 'image %d/%d:' % (n+1, N)\n",
    "\n",
    "        # ecode the image\n",
    "        img = {}\n",
    "        img['feat'] = features[:, n]\n",
    "        img_names = open(test_file, 'r').read().splitlines()\n",
    "        img['local_file_path'] = img_names[n]\n",
    "\n",
    "        # perform the work. heavy lifting happens inside\n",
    "        kwparams = { 'beam_size' : 2 }\n",
    "        Ys = BatchGenerator.predict([{'image':img}], model, checkpoint_params, **kwparams)\n",
    "\n",
    "        # build up the output\n",
    "        img_blob = {}\n",
    "        img_blob['img_path'] = img['local_file_path']\n",
    "\n",
    "        # encode the top prediction\n",
    "        top_predictions = Ys[0] # take predictions for the first (and only) image we passed in\n",
    "        top_prediction = top_predictions[0] # these are sorted with highest on top\n",
    "        candidate = ' '.join([ixtoword[ix] for ix in top_prediction[1] if ix > 0]) # ix 0 is the END token, skip that\n",
    "        print 'PRED: (%f) %s' % (top_prediction[0], candidate)\n",
    "        img_blob['candidate'] = {'text': candidate, 'logprob': top_prediction[0]}    \n",
    "        blob['imgblobs'].append(img_blob)\n",
    "    \n",
    "    blob_top5[str(i)] = blob\n",
    "    "
   ]
  },
  {
   "cell_type": "code",
   "execution_count": 9,
   "metadata": {
    "collapsed": false
   },
   "outputs": [
    {
     "name": "stdout",
     "output_type": "stream",
     "text": [
      "['1', '0', '3', '2', '4']\n"
     ]
    }
   ],
   "source": [
    "print blob_top5.keys()"
   ]
  },
  {
   "cell_type": "code",
   "execution_count": 4,
   "metadata": {
    "collapsed": false
   },
   "outputs": [
    {
     "name": "stdout",
     "output_type": "stream",
     "text": [
      "loading checkpoint /media/young/225AD7985AD766D7/json/neuraltalk-master/merge_cv/model_checkpoint_coco_Caicai-PC_baseline_24.64.p\n",
      "image 1/16:\n",
      "PRED: (-7.773769) a brown dog is running through the grass\n",
      "writing predictions to /media/young/225AD7985AD766D7/json/neuraltalk-master/Demo/result_struct.json...\n",
      "writing html result file to /media/young/225AD7985AD766D7/json/neuraltalk-master/example_images/result4.html...\n"
     ]
    }
   ],
   "source": [
    "# generate the image caption\n",
    "import code\n",
    "import math\n",
    "import json\n",
    "#import argparse\n",
    "import cPickle as pickle\n",
    "from imagernn.solver import Solver\n",
    "from imagernn.imagernn_utils import decodeGenerator, eval_split\n",
    "\n",
    "\n",
    "features = allfeatures\n",
    "D, N = features.shape\n",
    "\n",
    "# iterate over all images and predict sentence\n",
    "# load the checkpoint\n",
    "checkpoint_path = rootdir + 'merge_cv/' + 'model_checkpoint_coco_Caicai-PC_baseline_24.64.p'\n",
    "print 'loading checkpoint %s' % (checkpoint_path, )\n",
    "checkpoint = pickle.load(open(checkpoint_path, 'rb'))\n",
    "#print checkpoint.keys()\n",
    "checkpoint_params = checkpoint['params']\n",
    "dataset = checkpoint_params['dataset']\n",
    "model = checkpoint['model']\n",
    "misc = {}\n",
    "misc['wordtoix'] = checkpoint['wordtoix']\n",
    "ixtoword = checkpoint['ixtoword']\n",
    "\n",
    "# output blob which we will dump to JSON for visualizing the results\n",
    "blob = {} \n",
    "blob['params'] = {}\n",
    "blob['checkpoint_params'] = checkpoint_params\n",
    "blob['imgblobs'] = []\n",
    "\n",
    "BatchGenerator = decodeGenerator(checkpoint_params)\n",
    "for n in xrange(1):\n",
    "    print 'image %d/%d:' % (n+1, N)\n",
    "    \n",
    "    # ecode the image\n",
    "    img = {}\n",
    "    img['feat'] = features[:, n]\n",
    "    img_names = open(test_file, 'r').read().splitlines()\n",
    "    img['local_file_path'] = img_names[n]\n",
    "\n",
    "    # perform the work. heavy lifting happens inside\n",
    "    kwparams = { 'beam_size' : 2 }\n",
    "    Ys = BatchGenerator.predict([{'image':img}], model, checkpoint_params, **kwparams)\n",
    "    \n",
    "    # build up the output\n",
    "    img_blob = {}\n",
    "    img_blob['img_path'] = img['local_file_path']\n",
    "    \n",
    "    # encode the top prediction\n",
    "    top_predictions = Ys[0] # take predictions for the first (and only) image we passed in\n",
    "    top_prediction = top_predictions[0] # these are sorted with highest on top\n",
    "    candidate = ' '.join([ixtoword[ix] for ix in top_prediction[1] if ix > 0]) # ix 0 is the END token, skip that\n",
    "    print 'PRED: (%f) %s' % (top_prediction[0], candidate)\n",
    "    img_blob['candidate'] = {'text': candidate, 'logprob': top_prediction[0]}    \n",
    "    blob['imgblobs'].append(img_blob)\n",
    "    \n",
    "# dump result struct to file\n",
    "save_file = os.path.join(rootdir + 'Demo/', 'result_struct.json')\n",
    "print 'writing predictions to %s...' % (save_file, )\n",
    "json.dump(blob, open(save_file, 'w'))\n",
    "\n",
    "\n",
    "\n",
    "\n",
    "# dump output html\n",
    "html = ''\n",
    "for img in blob['imgblobs']:\n",
    "    html += '<img src=\"%s\" height=\"400\"><br>' % (img['img_path'], )\n",
    "    html += '(%f) %s <br><br>' % (img['candidate']['logprob'], img['candidate']['text'])\n",
    "html_file = os.path.join(rootdir + 'example_images/', 'result4.html')\n",
    "print 'writing html result file to %s...' % (html_file, )\n",
    "open(html_file, 'w').write(html)"
   ]
  },
  {
   "cell_type": "code",
   "execution_count": 88,
   "metadata": {
    "collapsed": false
   },
   "outputs": [
    {
     "name": "stdout",
     "output_type": "stream",
     "text": [
      "<type 'numpy.ndarray'>\n"
     ]
    }
   ],
   "source": [
    "print type(allfeatures)"
   ]
  },
  {
   "cell_type": "code",
   "execution_count": 85,
   "metadata": {
    "collapsed": false
   },
   "outputs": [],
   "source": [
    "features_path = os.path.join(rootdir + 'Demo/', 'vgg_feats.mat')\n",
    "features_struct = scipy.io.loadmat(features_path)\n",
    "features = features_struct['feats'] # this is a 4096 x N numpy array of features"
   ]
  },
  {
   "cell_type": "code",
   "execution_count": 87,
   "metadata": {
    "collapsed": false
   },
   "outputs": [
    {
     "name": "stdout",
     "output_type": "stream",
     "text": [
      "<type 'numpy.ndarray'>\n"
     ]
    }
   ],
   "source": [
    "print type(features)"
   ]
  },
  {
   "cell_type": "code",
   "execution_count": null,
   "metadata": {
    "collapsed": true
   },
   "outputs": [],
   "source": [
    "#!mkdir -p _temp\n",
    "#!echo `pwd`/images/fish-bike.jpg > _temp/det_input.txt\n",
    "#!../python/detect.py --crop_mode=selective_search --pretrained_model=/home/young/caffe-master/models/bvlc_reference_rcnn_ilsvrc13/bvlc_reference_rcnn_ilsvrc13.caffemodel --model_def=/home/young/caffe-master/models/bvlc_reference_rcnn_ilsvrc13/deploy.prototxt --gpu --raw_scale=255 _temp/det_input.txt _temp/det_output.h5"
   ]
  },
  {
   "cell_type": "code",
   "execution_count": 12,
   "metadata": {
    "collapsed": false
   },
   "outputs": [
    {
     "ename": "NameError",
     "evalue": "name 'rootdir' is not defined",
     "output_type": "error",
     "traceback": [
      "\u001b[1;31m---------------------------------------------------------------------------\u001b[0m",
      "\u001b[1;31mNameError\u001b[0m                                 Traceback (most recent call last)",
      "\u001b[1;32m<ipython-input-12-ef201b477bef>\u001b[0m in \u001b[0;36m<module>\u001b[1;34m()\u001b[0m\n\u001b[0;32m      1\u001b[0m \u001b[1;31m# ----------------------perocessing with the test hash code\u001b[0m\u001b[1;33m\u001b[0m\u001b[1;33m\u001b[0m\u001b[0m\n\u001b[0;32m      2\u001b[0m \u001b[1;33m\u001b[0m\u001b[0m\n\u001b[1;32m----> 3\u001b[1;33m \u001b[0mrootdata\u001b[0m \u001b[1;33m=\u001b[0m \u001b[0mrootdir\u001b[0m \u001b[1;33m+\u001b[0m \u001b[1;34m'/dataset/'\u001b[0m\u001b[1;33m\u001b[0m\u001b[0m\n\u001b[0m\u001b[0;32m      4\u001b[0m \u001b[0mTEST_DATA_FILE\u001b[0m \u001b[1;33m=\u001b[0m \u001b[0mrootdata\u001b[0m \u001b[1;33m+\u001b[0m \u001b[1;34m't10k-images-idx3-ubyte'\u001b[0m\u001b[1;33m\u001b[0m\u001b[0m\n\u001b[0;32m      5\u001b[0m \u001b[0mTEST_LABEL_FILE\u001b[0m \u001b[1;33m=\u001b[0m \u001b[0mrootdata\u001b[0m \u001b[1;33m+\u001b[0m \u001b[1;34m't10k-labels-idx1-ubyte'\u001b[0m\u001b[1;33m\u001b[0m\u001b[0m\n",
      "\u001b[1;31mNameError\u001b[0m: name 'rootdir' is not defined"
     ]
    }
   ],
   "source": [
    "# ----------------------perocessing with the test hash code     \n",
    "\n",
    "rootdata = rootdir + '/dataset/'\n",
    "TEST_DATA_FILE = rootdata + 't10k-images-idx3-ubyte'\n",
    "TEST_LABEL_FILE = rootdata + 't10k-labels-idx1-ubyte'\n",
    "test_n = 10000\n",
    "                \n",
    "with open(TEST_DATA_FILE, 'rb') as f:\n",
    "    f.read(16)\n",
    "    test_raw_data = np.fromstring(f.read(test_n * 28*28), dtype = np.uint8)\n",
    "    \n",
    "with open(TEST_LABEL_FILE, 'rb') as f:\n",
    "    f.read(8)\n",
    "    test_labels = np.fromstring(f.read(test_n), dtype = np.uint8)\n",
    "    \n",
    "test_caffe_in = test_raw_data.reshape(test_n, 1, 28, 28) * 0.00390625\n",
    "print 'shape of test data is : ' \n",
    "print test_caffe_in.shape\n",
    "\n",
    "test_out = net.forward_all(data = test_caffe_in)\n",
    "print 'shape of test output: ' \n",
    "print [(k, v.shape) for k, v in test_out.items()]"
   ]
  },
  {
   "cell_type": "code",
   "execution_count": 5,
   "metadata": {
    "collapsed": false
   },
   "outputs": [
    {
     "name": "stdout",
     "output_type": "stream",
     "text": [
      "classification accuracty for test set: 98.950000%\n",
      "predict number of image 100 is: 6\n",
      "true label of image 100 is : 6 \n"
     ]
    },
    {
     "data": {
      "text/plain": [
       "<matplotlib.image.AxesImage at 0x7f57a76984d0>"
      ]
     },
     "execution_count": 5,
     "metadata": {},
     "output_type": "execute_result"
    },
    {
     "data": {
      "image/png": "[encoded data removed]",
      "text/plain": [
       "<matplotlib.figure.Figure at 0x7f57ae5a1610>"
      ]
     },
     "metadata": {},
     "output_type": "display_data"
    }
   ],
   "source": [
    "# --------------------------do some test on test data\n",
    "#print [(k, v.shape) for k, v in test_out.items()]\n",
    "test_prob = test_out['prob']\n",
    "test_code = test_out['hash']\n",
    "tmp = 0\n",
    "for i in range(0, test_n):\n",
    "    if (test_prob[i].argmax() == test_labels[i]):\n",
    "        tmp = tmp + 1\n",
    "print 'classification accuracty for test set: %f' % (tmp *100.0 / test_n) + '%'\n",
    "\n",
    "ind = 100\n",
    "# print 'shape of output: ' + test_prob.shape\n",
    "print 'predict number of image %d is: %d' % (ind, test_prob[ind].argmax())\n",
    "print 'true label of image %d is : %d '% (ind, test_labels[ind])\n",
    "plt.imshow(test_caffe_in[ind][0])"
   ]
  },
  {
   "cell_type": "code",
   "execution_count": 22,
   "metadata": {
    "collapsed": false
   },
   "outputs": [
    {
     "name": "stdout",
     "output_type": "stream",
     "text": [
      "shape of train data is: \n",
      "(60000, 1, 28, 28)\n",
      "shape of train output is: \n",
      "[('hash', (60000, 500, 1, 1)), ('prob', (60000, 10, 1, 1))]\n"
     ]
    }
   ],
   "source": [
    "# ---------------------------perocessing with the train hash code\n",
    "TRAIN_DATA_FILE = rootdata + 'train-images-idx3-ubyte'\n",
    "TRAIN_LABEL_FILE = rootdata + 'train-labels-idx1-ubyte'\n",
    "train_n = 60000\n",
    "\n",
    "with open(TRAIN_DATA_FILE, 'rb') as f:\n",
    "    f.read(16) # skip the header\n",
    "    train_raw_data = np.fromstring(f.read(train_n * 28*28), dtype=np.uint8)\n",
    "\n",
    "with open(TRAIN_LABEL_FILE, 'rb') as f:\n",
    "    f.read(8) # skip the header\n",
    "    train_labels = np.fromstring(f.read(train_n), dtype=np.uint8)\n",
    "    \n",
    "train_caffe_in = train_raw_data.reshape(train_n, 1, 28, 28) * 0.00390625 # manually scale data instead of using `caffe.io.Transformer`\n",
    "print 'shape of train data is: '\n",
    "print train_caffe_in.shape\n",
    "\n",
    "train_out = net.forward_all(data=train_caffe_in)\n",
    "print 'shape of train output is: ' \n",
    "print [(k, v.shape) for k, v in train_out.items()]\n"
   ]
  },
  {
   "cell_type": "code",
   "execution_count": 6,
   "metadata": {
    "collapsed": false
   },
   "outputs": [
    {
     "name": "stdout",
     "output_type": "stream",
     "text": [
      "classification accuracy for train set: 99.541667%\n",
      "predict number of image 6 is: 1\n",
      "true label of image 6 is : 1 \n"
     ]
    },
    {
     "data": {
      "text/plain": [
       "<matplotlib.image.AxesImage at 0x7fa021c81bd0>"
      ]
     },
     "execution_count": 6,
     "metadata": {},
     "output_type": "execute_result"
    },
    {
     "data": {
      "image/png": "[encoded data removed]",
      "text/plain": [
       "<matplotlib.figure.Figure at 0x7fa024eeb0d0>"
      ]
     },
     "metadata": {},
     "output_type": "display_data"
    }
   ],
   "source": [
    "#-----------------------------do some test on train data\n",
    "train_prob = train_out['prob']\n",
    "train_code = train_out['hash']\n",
    "tmp = 0\n",
    "for i in range(0, train_n):\n",
    "    if (train_prob[i].argmax() == train_labels[i]):\n",
    "        tmp = tmp + 1\n",
    "print 'classification accuracy for train set: %f' % (tmp * 100.0 / train_n) + '%'\n",
    "\n",
    "ind = 6\n",
    "print 'predict number of image %d is: %d' % (ind, train_prob[ind].argmax())\n",
    "print 'true label of image %d is : %d '% (ind, train_labels[ind])\n",
    "plt.imshow(train_caffe_in[ind][0])\n"
   ]
  },
  {
   "cell_type": "code",
   "execution_count": 13,
   "metadata": {
    "collapsed": false
   },
   "outputs": [],
   "source": [
    "# get the 500D feature of the test data and train data\n",
    "# type(train_code) is numpy.ndarray\n",
    "# save the numpy array to mat file including train_code, train_labels, test_code, test_labels\n",
    "# from scipy.io import savemat\n",
    "# train_data = {'TrainImages':train_code, 'TrainLabels':train_labels};\n",
    "# test_data = {'TestImages':test_code, 'TestLabels':test_labels};\n",
    "# hashdata = {'train':train_data, 'test':test_data}\n",
    "\n",
    "# savemat(rootdir + '/RBM/mnist/hashcode_500.mat', hashdata)\n",
    "# print 'Done'"
   ]
  },
  {
   "cell_type": "code",
   "execution_count": 74,
   "metadata": {
    "collapsed": false
   },
   "outputs": [
    {
     "name": "stdout",
     "output_type": "stream",
     "text": [
      "(60000, 8)\n",
      "8\n",
      "Done\n"
     ]
    }
   ],
   "source": [
    "# get the rbm hash code form matlab mat file\n",
    "from scipy.io import loadmat\n",
    "\n",
    "data_dict = loadmat(rootdir + '/RBM/mnist/rbmcode_500_8.mat')\n",
    "\n",
    "#print data_dict.items()\n",
    "train_code = data_dict.get(data_dict.keys()[0])\n",
    "test_code = data_dict.get(data_dict.keys()[1])\n",
    "\n",
    "print train_code.shape\n",
    "print len(train_code[0])\n",
    "print 'Done'"
   ]
  },
  {
   "cell_type": "code",
   "execution_count": 9,
   "metadata": {
    "collapsed": true
   },
   "outputs": [],
   "source": [
    "############################################################################\n",
    "pass"
   ]
  },
  {
   "cell_type": "code",
   "execution_count": 114,
   "metadata": {
    "collapsed": false
   },
   "outputs": [
    {
     "name": "stdout",
     "output_type": "stream",
     "text": [
      "visualization the blob shape of each layer:\n"
     ]
    },
    {
     "data": {
      "text/plain": [
       "[('data', (64, 1, 28, 28), 50176),\n",
       " ('conv1', (64, 20, 24, 24), 737280),\n",
       " ('pool1', (64, 20, 12, 12), 184320),\n",
       " ('conv2', (64, 50, 8, 8), 204800),\n",
       " ('pool2', (64, 50, 4, 4), 51200),\n",
       " ('ip1', (64, 500, 1, 1), 32000),\n",
       " ('ip3', (64, 32, 1, 1), 2048),\n",
       " ('ip3_ip3_0_split_0', (64, 32, 1, 1), 2048),\n",
       " ('ip3_ip3_0_split_1', (64, 32, 1, 1), 2048),\n",
       " ('ip4', (64, 32, 1, 1), 2048),\n",
       " ('ip2', (64, 10, 1, 1), 640),\n",
       " ('prob', (64, 10, 1, 1), 640),\n",
       " ('hash', (64, 32, 1, 1), 2048)]"
      ]
     },
     "execution_count": 114,
     "metadata": {},
     "output_type": "execute_result"
    }
   ],
   "source": [
    "# ---------------------------visualization the blob shape of each layer\n",
    "print 'visualization the blob shape of each layer:'\n",
    "[(k, v.data.shape, v.data.size) for k, v in net.blobs.items()]"
   ]
  },
  {
   "cell_type": "code",
   "execution_count": 115,
   "metadata": {
    "collapsed": false
   },
   "outputs": [
    {
     "name": "stdout",
     "output_type": "stream",
     "text": [
      "visualization the params of each layer:\n"
     ]
    },
    {
     "data": {
      "text/plain": [
       "[('conv1', (20, 1, 5, 5)),\n",
       " ('conv2', (50, 20, 5, 5)),\n",
       " ('ip1', (1, 1, 500, 800)),\n",
       " ('ip3', (1, 1, 32, 500)),\n",
       " ('ip2', (1, 1, 10, 32))]"
      ]
     },
     "execution_count": 115,
     "metadata": {},
     "output_type": "execute_result"
    }
   ],
   "source": [
    "# ---------------------------visualization the params shape of each layer\n",
    "print 'visualization the params of each layer:'\n",
    "[(k, v[0].data.shape) for k, v in net.params.items()]\n"
   ]
  },
  {
   "cell_type": "code",
   "execution_count": 75,
   "metadata": {
    "collapsed": false
   },
   "outputs": [],
   "source": [
    "# define the hamming distance function\n",
    "code_len = len(train_code[0])\n",
    "def hammingDis(v1, v2, len = code_len):\n",
    "    temp = 0\n",
    "    for i in range(0, len):\n",
    "        if v1[i] != v2[i]:\n",
    "            temp = temp + 1\n",
    "    return temp\n"
   ]
  },
  {
   "cell_type": "code",
   "execution_count": 76,
   "metadata": {
    "collapsed": false
   },
   "outputs": [
    {
     "name": "stdout",
     "output_type": "stream",
     "text": [
      "Done\n"
     ]
    }
   ],
   "source": [
    "train_code = train_code > 0.5\n",
    "test_code = test_code > 0.5\n",
    "print 'Done'"
   ]
  },
  {
   "cell_type": "code",
   "execution_count": 77,
   "metadata": {
    "collapsed": false
   },
   "outputs": [
    {
     "name": "stdout",
     "output_type": "stream",
     "text": [
      "5\n"
     ]
    }
   ],
   "source": [
    "print hammingDis(test_code[42], train_code[23])\n",
    "#print test_code[0]\n",
    "#print train_code[0]"
   ]
  },
  {
   "cell_type": "code",
   "execution_count": 78,
   "metadata": {
    "collapsed": false
   },
   "outputs": [
    {
     "name": "stdout",
     "output_type": "stream",
     "text": [
      "Done\n"
     ]
    }
   ],
   "source": [
    "test_len = 1000\n",
    "train_len = 5000\n",
    "hDis = np.ndarray([test_len, train_len], dtype = np.uint8)\n",
    "#print hDis.shape\n",
    "for i in range(0, test_len):\n",
    "    for j in range(0, train_len):\n",
    "        hDis[i][j] = hammingDis(test_code[i], train_code[j])\n",
    "        \n",
    "print 'Done'"
   ]
  },
  {
   "cell_type": "code",
   "execution_count": 79,
   "metadata": {
    "collapsed": false
   },
   "outputs": [
    {
     "name": "stdout",
     "output_type": "stream",
     "text": [
      "8\n",
      "[346438, 475355, 497054, 502096, 502943, 503273, 503302, 503305, 503305]\n",
      "[347602, 484406, 634000, 1729669, 3156203, 4291674, 4855766, 4977614, 5000000]\n",
      "Done\n"
     ]
    }
   ],
   "source": [
    "sum = 0\n",
    "sum_n = 0\n",
    "#bits = 32\n",
    "bits = code_len\n",
    "print bits\n",
    "limit = 2\n",
    "sum_A = [0 for i in range(0, bits+1)]\n",
    "sum_K = [0 for i in range(0, bits+1)]\n",
    "for limit in range(0,bits+1):\n",
    "    for i in range(0, test_len):\n",
    "        top_K = 0 #检索到的与测试数据i标签相同的数\n",
    "        top_A = 0 #测试数据i检索到的数, 海明距离<=limit\n",
    "        for j in range(0, train_len):\n",
    "            tmp = hDis[i][j]\n",
    "            if (tmp <= limit):\n",
    "                top_K = top_K + 1\n",
    "                if (test_labels[i] == train_labels[j]):\n",
    "                    top_A = top_A + 1\n",
    "        if (top_K > 0):\n",
    "            sum_n = sum_n + 1\n",
    "            sum = sum + top_A*1.0/top_K #第i个测试数据的正确率\n",
    "        sum_A[limit] += top_A\n",
    "        sum_K[limit] += top_K\n",
    "\n",
    "\n",
    "\n",
    "print sum_A\n",
    "print sum_K\n",
    "\n",
    "\n",
    "# use 8 bit rbm hash\n",
    "# [346438, 475355, 497054, 502096, 502943, 503273, 503302, 503305, 503305]\n",
    "# [347602, 484406, 634000, 1729669, 3156203, 4291674, 4855766, 4977614, 5000000]\n",
    "\n",
    "# use 16 bit rbm hash\n",
    "# [197290, 364353, 446842, 479151, 494041, 499545, 502290, 502990, 503260, 503297, 503302, 503305, 503305, 503305, 503305, 503305, 503305]\n",
    "# [197867, 366313, 454095, 504457, 620363, 927528, 1542100, 2221550, 2963772, 3641174, 4172565, 4563066, 4801353, 4951723, 4994883, 4999379, 5000000]\n",
    "\n",
    "# use 24 bit rbm hash\n",
    "# [119836, 271356, 379409, 438862, 468970, 485593, 494237, 498662, 500851, 502258, 503008, 503169, 503209, 503228, 503286, 503300, 503304, 503304, 503305, 503305, 503305, 503305, 503305, 503305, 503305]\n",
    "# [120147, 271958, 380408, 441248, 473974, 503061, 565859, 731293, 1063373, 1534970, 1989238, 2447151, 2919885, 3392044, 3830188, 4215634, 4535144, 4747677, 4859479, 4903129, 4918563, 4934047, 4965506, 4998800, 5000000]\n",
    "\n",
    "# use 32 bit rbm hash\n",
    "# [59720, 171477, 288281, 376438, 432054, 463652, 480413, 490579, 495718, 498508, 500440, 501577, 502213, 502683, 502917, 503076, 503166, 503234, 503282, 503296, 503303, 503305, 503305, 503305, 503305, 503305, 503305, 503305, 503305, 503305, 503305, 503305, 503305]\n",
    "# [59785, 171728, 289025, 377661, 434313, 468144, 494165, 527532, 570550, 633424, 741748, 954622, 1323153, 1821657, 2323900, 2780196, 3163987, 3476192, 3784011, 4084552, 4343604, 4553372, 4708542, 4815397, 4888884, 4944121, 4977396, 4993108, 4998529, 4999795, 4999986, 4999997, 5000000]\n",
    "\n",
    "# use 48 bit rbm hash\n",
    "# [42114, 122776, 198918, 269879, 331056, 379533, 414882, 440282, 458888, 472206, 482049, 489141, 493768, 496742, 498796, 500349, 501410, 502083, 502518, 502823, 502989, 503065, 503113, 503138, 503180, 503212, 503227, 503252, 503279, 503304, 503305, 503305, 503305, 503305, 503305, 503305, 503305, 503305, 503305, 503305, 503305, 503305, 503305, 503305, 503305, 503305, 503305, 503305, 503305]\n",
    "# [42125, 122854, 199292, 270553, 332180, 381329, 417664, 445496, 468671, 489218, 514140, 551489, 604471, 678581, 781117, 911260, 1069731, 1268780, 1501500, 1741575, 1986701, 2246323, 2514401, 2782331, 3046841, 3310353, 3573555, 3830080, 4062161, 4256791, 4427494, 4586743, 4719309, 4811087, 4871464, 4914274, 4946384, 4968270, 4983796, 4995280, 4999596, 4999988, 4999997, 4999999, 5000000, 5000000, 5000000, 5000000, 5000000]\n",
    "\n",
    "# use 64 bit rbm hash\n",
    "# [28258, 82467, 150403, 219896, 281048, 329288, 365861, 393110, 414650, 432320, 446770, 458870, 468371, 475712, 481603, 486441, 490298, 493320, 495633, 497492, 498989, 500361, 501243, 501792, 502117, 502362, 502545, 502716, 502840, 502930, 503039, 503154, 503249, 503290, 503300, 503303, 503304, 503305, 503305, 503305, 503305, 503305, 503305, 503305, 503305, 503305, 503305, 503305, 503305, 503305, 503305, 503305, 503305, 503305, 503305, 503305, 503305, 503305, 503305, 503305, 503305, 503305, 503305, 503305, 503305]\n",
    "# [28280, 82529, 150626, 220266, 281803, 330499, 367762, 396593, 419578, 439271, 456658, 473570, 493233, 515523, 543845, 582778, 637017, 709457, 792795, 891278, 996831, 1116396, 1243765, 1387385, 1554466, 1743732, 1952533, 2173882, 2402075, 2626573, 2855145, 3076377, 3286796, 3488903, 3681697, 3867979, 4044021, 4213803, 4371541, 4518225, 4642641, 4729794, 4790519, 4835450, 4867726, 4891224, 4906699, 4918175, 4928668, 4940066, 4953140, 4967823, 4981279, 4991677, 4997592, 4999221, 4999718, 5000000, 5000000, 5000000, 5000000, 5000000, 5000000, 5000000, 5000000]\n",
    "\n",
    "# use 72 bit rbm hash\n",
    "# [11429, 45999, 104657, 172749, 236129, 290581, 335549, 370735, 398241, 420207, 438065, 452514, 464206, 473327, 480662, 485934, 489668, 492415, 494673, 496432, 497903, 499226, 500349, 501167, 501761, 502168, 502421, 502582, 502685, 502837, 502975, 503092, 503194, 503246, 503273, 503282, 503298, 503299, 503302, 503304, 503304, 503304, 503304, 503304, 503305, 503305, 503305, 503305, 503305, 503305, 503305, 503305, 503305, 503305, 503305, 503305, 503305, 503305, 503305, 503305, 503305, 503305, 503305, 503305, 503305, 503305, 503305, 503305, 503305, 503305, 503305, 503305, 503305]\n",
    "# [11430, 46007, 104720, 172929, 236441, 291031, 336171, 371703, 399613, 422241, 441106, 456975, 470958, 484376, 499464, 518289, 544524, 580489, 627765, 686580, 759855, 850898, 961873, 1087836, 1225791, 1369182, 1516022, 1662508, 1808260, 1956539, 2113377, 2282134, 2460463, 2651011, 2859057, 3081858, 3316819, 3552989, 3776896, 3991042, 4184373, 4349683, 4482531, 4588410, 4673735, 4744063, 4801326, 4845173, 4875898, 4896932, 4910921, 4921891, 4932419, 4943306, 4955517, 4968742, 4981276, 4991597, 4997352, 4999392, 4999909, 4999995, 4999999, 5000000, 5000000, 5000000, 5000000, 5000000, 5000000, 5000000, 5000000, 5000000, 5000000]\n",
    "\n",
    "print 'Done'"
   ]
  },
  {
   "cell_type": "code",
   "execution_count": 80,
   "metadata": {
    "collapsed": false
   },
   "outputs": [
    {
     "name": "stdout",
     "output_type": "stream",
     "text": [
      "[0.9966513426274878, 0.9813152603394673, 0.7839968454258676, 0.2902844417053205, 0.15935065013245345, 0.11726729476656428, 0.1036503818347095, 0.1011137062857827, 0.100661]\n",
      "[0.6883261640555925, 0.9444670726497849, 0.9875800955682936, 0.9975978780262466, 0.9992807542146412, 0.9999364202620677, 0.9999940393995689, 1.0, 1.0]\n"
     ]
    },
    {
     "data": {
      "text/plain": [
       "[0, 1, 0, 1]"
      ]
     },
     "execution_count": 80,
     "metadata": {},
     "output_type": "execute_result"
    },
    {
     "data": {
      "image/png": "[encoded data removed]",
      "text/plain": [
       "<matplotlib.figure.Figure at 0x7fa021aad590>"
      ]
     },
     "metadata": {},
     "output_type": "display_data"
    }
   ],
   "source": [
    "pre = [0 for i in range(0,bits+1)]\n",
    "rec = [0 for i in range(0,bits+1)]\n",
    "for i in range(0,bits+1):\n",
    "    pre[i] = sum_A[i]*1.0/sum_K[i]\n",
    "    rec[i] = sum_A[i] * 1.0/sum_A[-1]\n",
    "print pre\n",
    "print rec\n",
    "plt.xlabel(\"recall\")# make axis labels\n",
    "plt.ylabel(\"precision\")\n",
    "plt.title(\"P-R curve\")\n",
    "plt.plot(rec, pre, 'r-')\n",
    "plt.axis([0, 1, 0, 1]) # set the axis limits"
   ]
  },
  {
   "cell_type": "code",
   "execution_count": 37,
   "metadata": {
    "collapsed": false
   },
   "outputs": [
    {
     "name": "stdout",
     "output_type": "stream",
     "text": [
      "[479, 563, 488, 493, 535, 434, 501, 550, 462, 495]\n",
      "[[0, 0, 0, 0, 0, 0, 0, 0, 0, 0], [0, 0, 0, 0, 0, 0, 0, 0, 0, 0], [0, 0, 0, 0, 0, 0, 0, 0, 0, 0], [0, 0, 0, 0, 0, 0, 0, 0, 0, 0], [0, 0, 0, 0, 0, 0, 0, 0, 0, 0], [0, 0, 0, 0, 0, 0, 0, 0, 0, 0], [0, 0, 0, 0, 0, 0, 0, 0, 0, 0], [0, 0, 0, 0, 0, 0, 0, 0, 0, 0], [0, 0, 0, 0, 0, 0, 0, 0, 0, 0], [0, 0, 0, 0, 0, 0, 0, 0, 0, 0]]\n"
     ]
    }
   ],
   "source": [
    "vec = [0 for i in range(0, 10)]\n",
    "mp = [[0 for i in range(0, 10)] for i in range(0, 10)]\n",
    "\n",
    "for i in range(0, train_len):\n",
    "    vec[train_labels[i]] += 1\n",
    "\n",
    "recall = [0 for i in range(0, 10)]\n",
    "pre = [0 for i in range(0, 10)]\n",
    "disLen = [0 for i in range(0, train_len)]\n",
    "last = [-1 for i in range(0, 33)]\n",
    "nxt = [-1 for i in range(0, train_len)]\n",
    "sum_a =  [0 for i in range(0, 10)]\n",
    "sum_k =  [0 for i in range(0, 10)]\n",
    "\n",
    "print vec\n",
    "print mp"
   ]
  },
  {
   "cell_type": "code",
   "execution_count": 87,
   "metadata": {
    "collapsed": false
   },
   "outputs": [
    {
     "name": "stdout",
     "output_type": "stream",
     "text": [
      "[47, 56, 48, 49, 53, 43, 50, 55, 46, 49]\n",
      "49928\n",
      "56763\n",
      "************\n",
      "[95, 112, 97, 98, 107, 86, 100, 110, 92, 99]\n",
      "100261\n",
      "107596\n",
      "************\n",
      "[143, 168, 146, 147, 160, 130, 150, 165, 138, 148]\n",
      "150477\n",
      "158204\n",
      "************\n",
      "[191, 225, 195, 197, 214, 173, 200, 220, 184, 198]\n",
      "201043\n",
      "209184\n",
      "************\n",
      "[239, 281, 244, 246, 267, 217, 250, 275, 231, 247]\n",
      "251348\n",
      "259880\n",
      "************\n",
      "[287, 337, 292, 295, 321, 260, 300, 330, 277, 297]\n",
      "301565\n",
      "310411\n",
      "************\n",
      "[335, 394, 341, 345, 374, 303, 350, 385, 323, 346]\n",
      "351927\n",
      "361224\n",
      "************\n",
      "[383, 450, 390, 394, 428, 347, 400, 440, 369, 396]\n",
      "402347\n",
      "412103\n",
      "************\n",
      "[431, 506, 439, 443, 481, 390, 450, 495, 415, 445]\n",
      "452476\n",
      "463505\n",
      "************\n",
      "[479, 563, 488, 493, 535, 434, 501, 550, 462, 495]\n",
      "503305\n",
      "1559048\n",
      "************\n",
      "[49928, 100261, 150477, 201043, 251348, 301565, 351927, 402347, 452476, 503305]\n",
      "[56763, 107596, 158204, 209184, 259880, 310411, 361224, 412103, 463505, 1559048]\n"
     ]
    }
   ],
   "source": [
    "\n",
    "\n",
    "for s in range(0 , 10):\n",
    "    for t in range(0, 10):\n",
    "        mp[s][t] = vec[t]*(s+1)/10\n",
    "    print mp[s][:]\n",
    "    sum_a[s] = 0\n",
    "    sum_k[s] = 0\n",
    "    for i in range (0, test_len):\n",
    "        last = [-1 for j in range(0, 33)]\n",
    "        nxt = [-1 for j in range(0, train_len)]\n",
    "        for j in range(0, train_len):\n",
    "            dis = hammingDis(test_code[i], train_code[j])\n",
    "            nxt[j] = last[dis]\n",
    "            last[dis] = j\n",
    "        #print last\n",
    "        k = 0\n",
    "        top_k = 0\n",
    "        top_a = 0\n",
    "        while (k<33 and top_a < mp[s][test_labels[i]]):\n",
    "            now = last[k]\n",
    "            while (now != -1 and top_a < mp[s][test_labels[i]]):\n",
    "                top_k += 1\n",
    "                if (train_labels[now] == test_labels[i]):\n",
    "                    top_a += 1\n",
    "                now = nxt[now]\n",
    "            k = k + 1\n",
    "        \n",
    "        sum_a[s] += top_a\n",
    "        sum_k[s] += top_k\n",
    "        \n",
    "    print sum_a[s]\n",
    "    print sum_k[s]\n",
    "    print \"************\"\n",
    "\n",
    "print sum_a\n",
    "print sum_k"
   ]
  },
  {
   "cell_type": "code",
   "execution_count": 120,
   "metadata": {
    "collapsed": false
   },
   "outputs": [
    {
     "name": "stdout",
     "output_type": "stream",
     "text": [
      "87.9587054948\n",
      "93.1828320755\n",
      "95.1157998534\n",
      "96.108210953\n",
      "96.7169462829\n",
      "97.1502298565\n",
      "97.4262507475\n",
      "97.6326306773\n",
      "97.620521893\n",
      "32.2828418368\n"
     ]
    }
   ],
   "source": [
    "# limit = 1 75107 76376\n",
    "#limit = 0 23763 23920\n",
    "# 131270 35751\n",
    "for i in range(0, 10):\n",
    "    print sum_a[i]*100.0/sum_k[i]\n",
    "    "
   ]
  },
  {
   "cell_type": "code",
   "execution_count": 122,
   "metadata": {
    "collapsed": false
   },
   "outputs": [
    {
     "name": "stdout",
     "output_type": "stream",
     "text": [
      "0\n",
      "7\n",
      "7\n",
      "********************\n",
      "0\n",
      "2\n",
      "2\n",
      "********************\n",
      "0\n",
      "1\n",
      "1\n",
      "********************\n",
      "0\n",
      "0\n",
      "0\n",
      "********************\n",
      "0\n"
     ]
    }
   ],
   "source": [
    "sum = 0\n",
    "bits = 32\n",
    "for i in range(0, 4):\n",
    "    top_k = 0\n",
    "    top_v = bits\n",
    "    for j in range(0, 10000):\n",
    "        tmp = hammingDis(test_code[i], train_code[j])\n",
    "        if (tmp < top_v):\n",
    "            top_v = tmp\n",
    "            top_k = j\n",
    "    print top_v\n",
    "    print test_labels[i]\n",
    "    # plt.imshow(test_caffe_in[i][0])\n",
    "    print train_labels[top_k]\n",
    "    # plt.imshow(train_caffe_in[top_k][0])\n",
    "    print \"********************\"\n",
    "print sum"
   ]
  },
  {
   "cell_type": "code",
   "execution_count": 123,
   "metadata": {
    "collapsed": false
   },
   "outputs": [
    {
     "name": "stdout",
     "output_type": "stream",
     "text": [
      "[5 0 4 1 9 2 1 3 1 4 3 5 3 6 1 7 2 8 6 9]\n"
     ]
    }
   ],
   "source": [
    "print train_labels[0:20]"
   ]
  },
  {
   "cell_type": "code",
   "execution_count": 125,
   "metadata": {
    "collapsed": false
   },
   "outputs": [
    {
     "name": "stdout",
     "output_type": "stream",
     "text": [
      "Done\n"
     ]
    }
   ],
   "source": [
    "#sys.path.append('/home/young/anaconda/lib/python2.7/site-packages/')\n",
    "import theano\n",
    "import theano.tensor as T\n",
    "\n",
    "print 'Done'"
   ]
  },
  {
   "cell_type": "code",
   "execution_count": null,
   "metadata": {
    "collapsed": true
   },
   "outputs": [],
   "source": []
  }
 ],
 "metadata": {
  "kernelspec": {
   "display_name": "Python 2",
   "language": "python",
   "name": "python2"
  },
  "language_info": {
   "codemirror_mode": {
    "name": "ipython",
    "version": 2
   },
   "file_extension": ".py",
   "mimetype": "text/x-python",
   "name": "python",
   "nbconvert_exporter": "python",
   "pygments_lexer": "ipython2",
   "version": "2.7.9"
  }
 },
 "nbformat": 4,
 "nbformat_minor": 0
}
