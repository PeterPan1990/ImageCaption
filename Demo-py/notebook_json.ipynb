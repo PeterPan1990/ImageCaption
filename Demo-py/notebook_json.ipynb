{
 "cells": [
  {
   "cell_type": "code",
   "execution_count": 1,
   "metadata": {
    "collapsed": false
   },
   "outputs": [],
   "source": [
    "# python script for json processing\n",
    "# author: Pan Yang\n",
    "# date: 2015/5/12"
   ]
  },
  {
   "cell_type": "code",
   "execution_count": 24,
   "metadata": {
    "collapsed": false
   },
   "outputs": [],
   "source": [
    "# connect 3 json file to one \n",
    "# onling format tool for json: http://www.w3cschool.cc/tool/json/index.html\n",
    "# dataset: http://cs.stanford.edu/people/karpathy/deepimagesent/flickr8k.zip\n",
    "#          http://cs.stanford.edu/people/karpathy/deepimagesent/flickr30k.zip\n",
    "#          http://cs.stanford.edu/people/karpathy/deepimagesent/flickr30k.zip\n",
    "\n",
    "import json\n",
    "#import sys\n",
    "root_path = '/media/young/225AD7985AD766D7/json/'"
   ]
  },
  {
   "cell_type": "code",
   "execution_count": 9,
   "metadata": {
    "collapsed": false
   },
   "outputs": [
    {
     "name": "stdout",
     "output_type": "stream",
     "text": [
      "8000\n",
      "Done\n"
     ]
    }
   ],
   "source": [
    "# deal with the flickr8k dataset 8000 samples\n",
    "with open(root_path + 'ckr8k_dataset.json', 'r') as fp:\n",
    "    json_flickr8k = json.load(fp)\n",
    "    \n",
    "# print json_flickr8k.keys() # [u'images', u'dataset'] data in images\n",
    "print len(json_flickr8k.get('images')) # length of flickr8k\n",
    "\n",
    "#print images_i\n",
    "print 'Done'"
   ]
  },
  {
   "cell_type": "code",
   "execution_count": 18,
   "metadata": {
    "collapsed": false
   },
   "outputs": [
    {
     "name": "stdout",
     "output_type": "stream",
     "text": [
      "{\"filename\": \"3490736665_38710f4b91.jpg\", \"imgid\": 7999, \"sentences\": [{\"tokens\": [\"a\", \"big\", \"dog\", \"stands\", \"on\", \"his\", \"hand\", \"leg\", \"as\", \"tennis\", \"balls\", \"are\", \"thrown\", \"his\", \"direction\"], \"raw\": \"A big dog stands on his hand leg as tennis balls are thrown his direction .\", \"imgid\": 7999, \"sentid\": 39995}, {\"tokens\": [\"a\", \"brown\", \"and\", \"white\", \"dog\", \"in\", \"front\", \"of\", \"a\", \"shed\", \"overwhelmed\", \"by\", \"the\", \"onslaught\", \"of\", \"tennis\", \"balls\"], \"raw\": \"A brown and white dog in front of a shed overwhelmed by the onslaught of tennis balls .\", \"imgid\": 7999, \"sentid\": 39996}, {\"tokens\": [\"a\", \"brown\", \"and\", \"white\", \"dogs\", \"stands\", \"in\", \"front\", \"of\", \"a\", \"wooden\", \"building\", \"while\", \"tennis\", \"balls\", \"fly\", \"through\", \"the\", \"air\"], \"raw\": \"A brown and white dogs stands in front of a wooden building while tennis balls fly through the air .\", \"imgid\": 7999, \"sentid\": 39997}, {\"tokens\": [\"a\", \"dog\", \"jumps\", \"for\", \"several\", \"tennis\", \"balls\", \"thrown\", \"at\", \"him\"], \"raw\": \"A dog jumps for several tennis balls thrown at him .\", \"imgid\": 7999, \"sentid\": 39998}, {\"tokens\": [\"a\", \"dog\", \"stands\", \"on\", \"his\", \"hind\", \"legs\", \"amid\", \"a\", \"shower\", \"of\", \"tennis\", \"balls\"], \"raw\": \"A dog stands on his hind legs amid a shower of tennis balls .\", \"imgid\": 7999, \"sentid\": 39999}], \"split\": \"test\", \"sentids\": [39995, 39996, 39997, 39998, 39999]}\n"
     ]
    }
   ],
   "source": [
    "images_i = json_flickr8k.get('images')[7999] # look into the structure of each sample\n",
    "#print len(images_i.get('sentences'))\n",
    "#print images_i # unicode format\n",
    "print json.dumps(images_i)"
   ]
  },
  {
   "cell_type": "code",
   "execution_count": 11,
   "metadata": {
    "collapsed": false
   },
   "outputs": [
    {
     "name": "stdout",
     "output_type": "stream",
     "text": [
      "31014\n",
      "Done\n"
     ]
    }
   ],
   "source": [
    "# deal with the flickr30k dataset 31014 samples\n",
    "with open(root_path + 'ckr30k_dataset.json', 'r') as fp:\n",
    "    json_flickr30k = json.load(fp)\n",
    "    \n",
    "# print json_flickr8k.keys() # [u'images', u'dataset'] data in images\n",
    "print len(json_flickr30k.get('images'))\n",
    "print 'Done'"
   ]
  },
  {
   "cell_type": "code",
   "execution_count": 12,
   "metadata": {
    "collapsed": false
   },
   "outputs": [
    {
     "name": "stdout",
     "output_type": "stream",
     "text": [
      "123287\n",
      "Done\n"
     ]
    }
   ],
   "source": [
    "# deal with the coco dataset 123287 samples\n",
    "with open(root_path + 'coco_dataset.json') as fp:\n",
    "    json_coco = json.load(fp)\n",
    "    \n",
    "# print json_flickr8k.keys() # [u'images', u'dataset'] data in images\n",
    "print len(json_coco.get('images'))\n",
    "print 'Done'"
   ]
  },
  {
   "cell_type": "code",
   "execution_count": 14,
   "metadata": {
    "collapsed": false
   },
   "outputs": [
    {
     "name": "stdout",
     "output_type": "stream",
     "text": [
      "Done with flickr30k\n",
      "Done with coco\n"
     ]
    }
   ],
   "source": [
    "# connect the flickr8k and flickr30k\n",
    "# connect the first 2000 of flickr30k for test\n",
    "merge_data = json_flickr8k\n",
    "merge_data['dataset'] = 'merge'\n",
    "len_flickr8k = 8000\n",
    "connect_num = len(json_flickr30k.get('images'))\n",
    "for i in xrange(connect_num):\n",
    "    dict_i = json_flickr30k.get('images')[i]\n",
    "    dict_i['imgid'] = len_flickr8k + i # change the imgid field\n",
    "    for j in xrange(5):  # change the sentences field\n",
    "        dict_i['sentences'][j]['imgid'] = len_flickr8k + i\n",
    "        dict_i['sentences'][j]['sentid'] = dict_i['imgid'] * 5 + j\n",
    "    dict_i['sentids'] = [dict_i['imgid'] * 5 + k for k in xrange(5)] # cheange the sentids field\n",
    "    merge_data.get('images').append(dict_i)\n",
    "print 'Done with flickr30k'\n",
    "\n",
    "len_merge = len_flickr8k + connect_num\n",
    "len_coco = len(json_coco.get('images'))\n",
    "for i in xrange(len_coco):\n",
    "    dict_i = json_coco.get('images')[i]\n",
    "    dict_i['imgid'] = len_merge + i # change the imgid field\n",
    "    for j in xrange(5):  # change the sentences field\n",
    "        dict_i['sentences'][j]['imgid'] = len_merge + i\n",
    "        dict_i['sentences'][j]['sentid'] = dict_i['imgid'] * 5 + j\n",
    "    dict_i['sentids'] = [dict_i['imgid'] * 5 + k for k in xrange(5)] # cheange the sentids field\n",
    "    merge_data.get('images').append(dict_i)\n",
    "print 'Done with coco'"
   ]
  },
  {
   "cell_type": "code",
   "execution_count": 15,
   "metadata": {
    "collapsed": false
   },
   "outputs": [
    {
     "name": "stdout",
     "output_type": "stream",
     "text": [
      "162301\n"
     ]
    }
   ],
   "source": [
    "print len(merge_data.get('images'))"
   ]
  },
  {
   "cell_type": "code",
   "execution_count": 20,
   "metadata": {
    "collapsed": false
   },
   "outputs": [
    {
     "name": "stdout",
     "output_type": "stream",
     "text": [
      "{\"sentids\": [195070, 195071, 195072, 195073, 195074], \"filepath\": \"val2014\", \"filename\": \"COCO_val2014_000000391895.jpg\", \"imgid\": 39014, \"split\": \"test\", \"sentences\": [{\"tokens\": [\"a\", \"man\", \"with\", \"a\", \"red\", \"helmet\", \"on\", \"a\", \"small\", \"moped\", \"on\", \"a\", \"dirt\", \"road\"], \"raw\": \"A man with a red helmet on a small moped on a dirt road. \", \"imgid\": 39014, \"sentid\": 195070}, {\"tokens\": [\"man\", \"riding\", \"a\", \"motor\", \"bike\", \"on\", \"a\", \"dirt\", \"road\", \"on\", \"the\", \"countryside\"], \"raw\": \"Man riding a motor bike on a dirt road on the countryside.\", \"imgid\": 39014, \"sentid\": 195071}, {\"tokens\": [\"a\", \"man\", \"riding\", \"on\", \"the\", \"back\", \"of\", \"a\", \"motorcycle\"], \"raw\": \"A man riding on the back of a motorcycle.\", \"imgid\": 39014, \"sentid\": 195072}, {\"tokens\": [\"a\", \"dirt\", \"path\", \"with\", \"a\", \"young\", \"person\", \"on\", \"a\", \"motor\", \"bike\", \"rests\", \"to\", \"the\", \"foreground\", \"of\", \"a\", \"verdant\", \"area\", \"with\", \"a\", \"bridge\", \"and\", \"a\", \"background\", \"of\", \"cloud\", \"wreathed\", \"mountains\"], \"raw\": \"A dirt path with a young person on a motor bike rests to the foreground of a verdant area with a bridge and a background of cloud-wreathed mountains. \", \"imgid\": 39014, \"sentid\": 195073}, {\"tokens\": [\"a\", \"man\", \"in\", \"a\", \"red\", \"shirt\", \"and\", \"a\", \"red\", \"hat\", \"is\", \"on\", \"a\", \"motorcycle\", \"on\", \"a\", \"hill\", \"side\"], \"raw\": \"A man in a red shirt and a red hat is on a motorcycle on a hill side.\", \"imgid\": 39014, \"sentid\": 195074}], \"cocoid\": 391895}\n"
     ]
    }
   ],
   "source": [
    "images_i = merge_data.get('images')[39014] # look into the structure of each sample\n",
    "#print len(images_i.get('sentences'))\n",
    "#print images_i # unicode format\n",
    "print json.dumps(images_i)"
   ]
  },
  {
   "cell_type": "code",
   "execution_count": 29,
   "metadata": {
    "collapsed": true
   },
   "outputs": [],
   "source": [
    "import numpy as np"
   ]
  },
  {
   "cell_type": "code",
   "execution_count": 21,
   "metadata": {
    "collapsed": false
   },
   "outputs": [
    {
     "name": "stdout",
     "output_type": "stream",
     "text": [
      "Done\n"
     ]
    }
   ],
   "source": [
    "# dump the merge_data to a new json file\n",
    "#print merge_data.get('dataset')\n",
    "\n",
    "with open(root_path + 'merge_dataset.json', 'w') as fp:\n",
    "    fp.write(json.dumps(merge_data))\n",
    "    \n",
    "print 'Done'"
   ]
  },
  {
   "cell_type": "code",
   "execution_count": 52,
   "metadata": {
    "collapsed": false
   },
   "outputs": [
    {
     "name": "stdout",
     "output_type": "stream",
     "text": [
      "Done\n"
     ]
    }
   ],
   "source": [
    "from scipy.io import loadmat, savemat\n",
    "import numpy as np\n",
    "\n",
    "flickr8k_feature = loadmat(root_path + 'ckr8k_vgg_feats.mat')\n",
    "flickr30k_feature = loadmat(root_path + 'ckr30k_vgg_feats.mat')\n",
    "coco_feature = loadmat(root_path + 'coco_vgg_feats.mat')\n",
    "\n",
    "len_flickr8k = flickr8k_feature.get('feats').shape[1]\n",
    "len_flickr30k = flickr30k_feature.get('feats').shape[1]\n",
    "len_coco = coco_feature.get('feats').shape[1]\n",
    "\n",
    "feats = np.ndarray((4096, len_flickr8k + len_flickr30k + len_coco), dtype=np.float32)\n",
    "feats[:, 0:len_flickr8k] = flickr8k_feature.get('feats')\n",
    "feats[:, len_flickr8k:len_flickr8k + len_flickr30k] = flickr30k_feature.get('feats')\n",
    "feats[:, len_flickr8k + len_flickr30k:len_flickr8k + len_flickr30k + len_coco] = coco_feature.get('feats')\n",
    "\n",
    "#print type(feats[0][0])\n",
    "#print flickr8k_feature.get('feats').shape[1]\n",
    "print 'Done'"
   ]
  },
  {
   "cell_type": "code",
   "execution_count": 58,
   "metadata": {
    "collapsed": false
   },
   "outputs": [],
   "source": [
    "savemat(root_path + 'merge_feature.mat', {'feats':feats})\n",
    "print 'Done'"
   ]
  },
  {
   "cell_type": "code",
   "execution_count": null,
   "metadata": {
    "collapsed": true
   },
   "outputs": [],
   "source": []
  }
 ],
 "metadata": {
  "kernelspec": {
   "display_name": "Python 2",
   "language": "python",
   "name": "python2"
  },
  "language_info": {
   "codemirror_mode": {
    "name": "ipython",
    "version": 2
   },
   "file_extension": ".py",
   "mimetype": "text/x-python",
   "name": "python",
   "nbconvert_exporter": "python",
   "pygments_lexer": "ipython2",
   "version": "2.7.9"
  }
 },
 "nbformat": 4,
 "nbformat_minor": 0
}
